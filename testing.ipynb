{
 "cells": [
  {
   "cell_type": "code",
   "execution_count": 1,
   "metadata": {},
   "outputs": [
    {
     "name": "stderr",
     "output_type": "stream",
     "text": [
      "2022-01-22 05:20:17.591027: E external/org_tensorflow/tensorflow/stream_executor/cuda/cuda_driver.cc:271] failed call to cuInit: CUDA_ERROR_UNKNOWN: unknown error\n",
      "WARNING:absl:No GPU/TPU found, falling back to CPU. (Set TF_CPP_MIN_LOG_LEVEL=0 and rerun for more info.)\n"
     ]
    }
   ],
   "source": [
    "from kerax.layers import Conv2D, Dense, Flatten, Input, BatchNormalization, Activation, Add, MaxPool2D\n",
    "from kerax.models import Model\n",
    "from jax.random import PRNGKey\n",
    "from jax import vmap\n",
    "from jax import random\n",
    "import gc\n",
    "gc.enable()"
   ]
  },
  {
   "cell_type": "code",
   "execution_count": 2,
   "metadata": {},
   "outputs": [],
   "source": [
    "img = random.normal(key=PRNGKey(3), shape=(1, 28, 28, 1))\n",
    "\n",
    "train_x = random.normal(key=PRNGKey(3), shape=(128, 28, 28, 1))\n",
    "train_y = random.normal(key=PRNGKey(34), shape=(128, 1))"
   ]
  },
  {
   "cell_type": "code",
   "execution_count": 3,
   "metadata": {},
   "outputs": [],
   "source": [
    "inputs = Input((28, 28, 1))\n",
    "conv1 = Conv2D(64, 3, key=PRNGKey(100), padding='same')(inputs)\n",
    "act1 = Activation('relu')(conv1)\n",
    "conv3 = Conv2D(128, 3, padding='same', key=PRNGKey(104))(act1)\n",
    "act2 = Activation('relu')(conv3)\n",
    "conv4 = Conv2D(128, 3, padding='same', key=PRNGKey(105))(act2)\n",
    "add = Add()([conv4, conv3])\n",
    "flatten = Flatten()(add)\n",
    "dense1 = Dense(512, activation='relu')(flatten)\n",
    "dense2 = Dense(1)(dense1)\n"
   ]
  },
  {
   "cell_type": "code",
   "execution_count": 4,
   "metadata": {},
   "outputs": [],
   "source": [
    "model = Model(input=inputs, output=dense2)"
   ]
  },
  {
   "cell_type": "code",
   "execution_count": 5,
   "metadata": {},
   "outputs": [],
   "source": [
    "model.compile(loss='mse', optimizer='sgd')"
   ]
  },
  {
   "cell_type": "code",
   "execution_count": 6,
   "metadata": {},
   "outputs": [
    {
     "name": "stderr",
     "output_type": "stream",
     "text": [
      "100%|████████████████████████████████████████| 32/32 [00:18<00:00,  1.73it/s, loss=0.93899906, remaining_epochs=9]\n",
      "100%|████████████████████████████████████████| 32/32 [00:17<00:00,  1.81it/s, loss=0.8505607, remaining_epochs=8] \n",
      "100%|████████████████████████████████████████| 32/32 [00:17<00:00,  1.83it/s, loss=0.7732358, remaining_epochs=7] \n",
      "100%|████████████████████████████████████████| 32/32 [00:17<00:00,  1.80it/s, loss=0.7044554, remaining_epochs=6] \n",
      "100%|████████████████████████████████████████| 32/32 [00:17<00:00,  1.82it/s, loss=0.64251673, remaining_epochs=5]\n",
      "100%|████████████████████████████████████████| 32/32 [00:17<00:00,  1.80it/s, loss=0.58561546, remaining_epochs=4]\n",
      "100%|████████████████████████████████████████| 32/32 [00:18<00:00,  1.77it/s, loss=0.53385127, remaining_epochs=3]\n",
      "100%|████████████████████████████████████████| 32/32 [00:17<00:00,  1.80it/s, loss=0.48623046, remaining_epochs=2]\n",
      "100%|████████████████████████████████████████| 32/32 [00:17<00:00,  1.81it/s, loss=0.44231457, remaining_epochs=1]\n",
      "100%|████████████████████████████████████████| 32/32 [00:18<00:00,  1.78it/s, loss=0.4018403, remaining_epochs=0] \n"
     ]
    }
   ],
   "source": [
    "model.fit(train_x, train_y, epochs=10, batch_size=32)"
   ]
  },
  {
   "cell_type": "code",
   "execution_count": null,
   "metadata": {},
   "outputs": [],
   "source": []
  }
 ],
 "metadata": {
  "interpreter": {
   "hash": "6721b10ec9b0eeb463be84ab6ef1ed3e9e9b165baec57fa1847c389edb595caf"
  },
  "kernelspec": {
   "display_name": "Python 3.7.10 64-bit ('jax': conda)",
   "name": "python3"
  },
  "language_info": {
   "codemirror_mode": {
    "name": "ipython",
    "version": 3
   },
   "file_extension": ".py",
   "mimetype": "text/x-python",
   "name": "python",
   "nbconvert_exporter": "python",
   "pygments_lexer": "ipython3",
   "version": "3.8.12"
  },
  "orig_nbformat": 4
 },
 "nbformat": 4,
 "nbformat_minor": 2
}
