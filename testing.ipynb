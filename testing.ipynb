{
 "cells": [
  {
   "cell_type": "code",
   "execution_count": 1,
   "metadata": {},
   "outputs": [],
   "source": [
    "import pandas as pd\n",
    "from jax import numpy as jnp\n",
    "import kerax\n",
    "from kerax import layers\n",
    "from kerax.models import Model\n",
    "import matplotlib.pyplot as plt\n",
    "import jax\n",
    "import numpy as np\n",
    "import functools\n",
    "from jax.nn.initializers import normal, glorot_normal\n",
    "from jax.random import PRNGKey\n",
    "from jax import lax\n",
    "from jax import random\n",
    "import optax"
   ]
  },
  {
   "cell_type": "code",
   "execution_count": 2,
   "metadata": {},
   "outputs": [
    {
     "name": "stderr",
     "output_type": "stream",
     "text": [
      "2022-04-13 04:00:21.487038: E external/org_tensorflow/tensorflow/stream_executor/cuda/cuda_driver.cc:271] failed call to cuInit: CUDA_ERROR_NO_DEVICE: no CUDA-capable device is detected\n",
      "WARNING:absl:No GPU/TPU found, falling back to CPU. (Set TF_CPP_MIN_LOG_LEVEL=0 and rerun for more info.)\n"
     ]
    }
   ],
   "source": [
    "# MNIST training data\n",
    "df = pd.read_csv('train.csv')\n",
    "labels = df['label'].values\n",
    "df.drop('label', axis=1, inplace=True)\n",
    "imgs = df.values.reshape((df.shape[0],28, 28, 1)).astype('float32')\n",
    "categorical_train_y = kerax.utils.to_categorical(labels, 10)"
   ]
  },
  {
   "cell_type": "code",
   "execution_count": 2,
   "metadata": {},
   "outputs": [
    {
     "name": "stderr",
     "output_type": "stream",
     "text": [
      "2022-04-13 04:30:50.378965: E external/org_tensorflow/tensorflow/stream_executor/cuda/cuda_driver.cc:271] failed call to cuInit: CUDA_ERROR_NO_DEVICE: no CUDA-capable device is detected\n",
      "WARNING:absl:No GPU/TPU found, falling back to CPU. (Set TF_CPP_MIN_LOG_LEVEL=0 and rerun for more info.)\n"
     ]
    }
   ],
   "source": [
    "inputs1 = layers.Input(shape=(28, 28, 1))\n",
    "conv1 = layers.Conv2D(64, 3, activation='relu')(inputs1)\n",
    "maxpool1 = layers.MaxPooling2D(2)(conv1)\n",
    "conv3 = layers.Conv2D(64, 3, activation='relu')(maxpool1)\n",
    "maxpool3 = layers.MaxPooling2D(2)(conv3)\n",
    "flatten = layers.Flatten()(maxpool3)\n",
    "dense1 = layers.Dense(128, activation='relu')(flatten)\n",
    "output1 = layers.Dense(10, activation='softmax')(dense1)"
   ]
  },
  {
   "cell_type": "code",
   "execution_count": 3,
   "metadata": {},
   "outputs": [],
   "source": [
    "model = Model(inputs1, output1)"
   ]
  },
  {
   "cell_type": "code",
   "execution_count": 3,
   "metadata": {},
   "outputs": [],
   "source": [
    "model = Model(inputs1, output1)\n",
    "model.compile(loss='categorical_crossentropy', optimizer='adam', metrics=['accuracy'])"
   ]
  },
  {
   "cell_type": "code",
   "execution_count": 4,
   "metadata": {},
   "outputs": [
    {
     "data": {
      "text/plain": [
       "<kerax.models.Model at 0x7f1e4f209310>"
      ]
     },
     "execution_count": 4,
     "metadata": {},
     "output_type": "execute_result"
    }
   ],
   "source": [
    "model"
   ]
  },
  {
   "cell_type": "code",
   "execution_count": 16,
   "metadata": {},
   "outputs": [
    {
     "data": {
      "text/plain": [
       "DeviceArray([[0.11081819, 0.08797796, 0.10092622, 0.11795913, 0.09160063,\n",
       "              0.10592711, 0.09290423, 0.09697939, 0.09485179, 0.10005528]],            dtype=float32)"
      ]
     },
     "execution_count": 16,
     "metadata": {},
     "output_type": "execute_result"
    }
   ],
   "source": [
    "model(np.random.random((1,28, 28, 1)))"
   ]
  },
  {
   "cell_type": "code",
   "execution_count": 28,
   "metadata": {},
   "outputs": [],
   "source": [
    "class Fun:\n",
    "    def __new__(cls, *args, **kwargs):\n",
    "        print(args, kwargs)\n",
    "        return kerax.engine.graph.GraphV2(*args, *kwargs)\n",
    "    def __init__(self, x):\n",
    "        self.x = x"
   ]
  },
  {
   "cell_type": "code",
   "execution_count": 29,
   "metadata": {},
   "outputs": [
    {
     "name": "stdout",
     "output_type": "stream",
     "text": [
      "(<Input_2 Layer with input shape (28, 28, 1) and output shape (None, 28, 28, 1)>, <Dense_6 Layer with input shape (128,) and output shape (None, 10)>) {}\n"
     ]
    },
    {
     "data": {
      "text/plain": [
       "<kerax.engine.graph.GraphV2 at 0x7fccc816c8d0>"
      ]
     },
     "execution_count": 29,
     "metadata": {},
     "output_type": "execute_result"
    }
   ],
   "source": [
    "Fun(inputs1, output1)"
   ]
  },
  {
   "cell_type": "code",
   "execution_count": null,
   "metadata": {},
   "outputs": [],
   "source": []
  },
  {
   "cell_type": "code",
   "execution_count": null,
   "metadata": {},
   "outputs": [],
   "source": [
    "model.fit(imgs, categorical_train_y, 1, 128)"
   ]
  },
  {
   "cell_type": "code",
   "execution_count": 10,
   "metadata": {},
   "outputs": [
    {
     "name": "stdout",
     "output_type": "stream",
     "text": [
      "Predicted: 1 Ground Truth: 1\n"
     ]
    },
    {
     "data": {
      "image/png": "[encoded data removed]",
      "text/plain": [
       "<Figure size 432x288 with 1 Axes>"
      ]
     },
     "metadata": {
      "needs_background": "light"
     },
     "output_type": "display_data"
    }
   ],
   "source": [
    "idx = 2\n",
    "img = imgs[idx]\n",
    "img = jnp.expand_dims(img, axis=0)\n",
    "print('Predicted:', model(img).argmax(), 'Ground Truth:', labels[idx])\n",
    "fig = plt.imshow(imgs[idx])"
   ]
  },
  {
   "cell_type": "code",
   "execution_count": null,
   "metadata": {},
   "outputs": [],
   "source": []
  }
 ],
 "metadata": {
  "interpreter": {
   "hash": "6721b10ec9b0eeb463be84ab6ef1ed3e9e9b165baec57fa1847c389edb595caf"
  },
  "kernelspec": {
   "display_name": "Python 3.7.10 64-bit ('jax': conda)",
   "name": "python3"
  },
  "language_info": {
   "codemirror_mode": {
    "name": "ipython",
    "version": 3
   },
   "file_extension": ".py",
   "mimetype": "text/x-python",
   "name": "python",
   "nbconvert_exporter": "python",
   "pygments_lexer": "ipython3",
   "version": "3.7.11"
  },
  "orig_nbformat": 4
 },
 "nbformat": 4,
 "nbformat_minor": 2
}
