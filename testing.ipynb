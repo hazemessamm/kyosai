{
 "cells": [
  {
   "cell_type": "code",
   "execution_count": null,
   "metadata": {},
   "outputs": [],
   "source": [
    "import os\n",
    "os.environ['TF_CPP_MIN_LOG_LEVEL'] = '3'\n",
    "\n",
    "import pandas as pd\n",
    "from jax import numpy as jnp\n",
    "from jax.random import PRNGKey\n",
    "import kerax\n",
    "from kerax import layers\n",
    "from kerax.models import Model\n",
    "import matplotlib.pyplot as plt\n",
    "from jax import lax\n",
    "import numpy as np\n",
    "import jax\n",
    "from jax import random"
   ]
  },
  {
   "cell_type": "code",
   "execution_count": null,
   "metadata": {},
   "outputs": [],
   "source": [
    "# MNIST training data\n",
    "df = pd.read_csv('train.csv')\n",
    "labels = df['label'].values\n",
    "df.drop('label', axis=1, inplace=True)\n",
    "imgs = df.values.reshape((df.shape[0], 28, 28, 1)).astype('float32')\n",
    "categorical_train_y = kerax.utils.to_categorical(labels, 10)"
   ]
  },
  {
   "cell_type": "code",
   "execution_count": null,
   "metadata": {},
   "outputs": [],
   "source": [
    "inputs1 = layers.Input(shape=(28, 28, 1))\n",
    "conv1 = layers.Conv2D(128, 3, key=PRNGKey(100), activation='gelu')(inputs1)\n",
    "maxpool1 = layers.MaxPool2D(2)(conv1)\n",
    "conv2 = layers.Conv2D(128, 3, key=PRNGKey(104), activation='gelu')(maxpool1)\n",
    "maxpool2 = layers.MaxPool2D(2)(conv2)\n",
    "conv3 = layers.Conv2D(256, 3, key=PRNGKey(105), activation='gelu')(maxpool2)\n",
    "maxpool3 = layers.MaxPool2D(2)(conv3)\n",
    "flatten = layers.Flatten()(maxpool3)\n",
    "dense1 = layers.Dense(512, key=PRNGKey(10), activation='gelu')(flatten)\n",
    "output1 = layers.Dense(10, key=PRNGKey(20), activation='softmax')(dense1)"
   ]
  },
  {
   "cell_type": "code",
   "execution_count": null,
   "metadata": {},
   "outputs": [],
   "source": [
    "model = Model(inputs1, output1)\n",
    "model.compile(loss='categorical_crossentropy', optimizer='adam')"
   ]
  },
  {
   "cell_type": "code",
   "execution_count": null,
   "metadata": {},
   "outputs": [],
   "source": [
    "model.fit(imgs, categorical_train_y, epochs=1, batch_size=64)"
   ]
  },
  {
   "cell_type": "code",
   "execution_count": null,
   "metadata": {},
   "outputs": [],
   "source": [
    "idx = 11\n",
    "img = imgs[idx]"
   ]
  },
  {
   "cell_type": "code",
   "execution_count": null,
   "metadata": {},
   "outputs": [],
   "source": [
    "img = jnp.expand_dims(img, axis=0)"
   ]
  },
  {
   "cell_type": "code",
   "execution_count": null,
   "metadata": {},
   "outputs": [],
   "source": [
    "print('Predicted:', model(img).argmax())\n",
    "print('Ground Truth:', labels[idx])"
   ]
  },
  {
   "cell_type": "code",
   "execution_count": null,
   "metadata": {},
   "outputs": [],
   "source": [
    "plt.imshow(img[idx])"
   ]
  },
  {
   "cell_type": "code",
   "execution_count": null,
   "metadata": {},
   "outputs": [],
   "source": []
  }
 ],
 "metadata": {
  "interpreter": {
   "hash": "6721b10ec9b0eeb463be84ab6ef1ed3e9e9b165baec57fa1847c389edb595caf"
  },
  "kernelspec": {
   "display_name": "Python 3.7.10 64-bit ('jax': conda)",
   "name": "python3"
  },
  "language_info": {
   "codemirror_mode": {
    "name": "ipython",
    "version": 3
   },
   "file_extension": ".py",
   "mimetype": "text/x-python",
   "name": "python",
   "nbconvert_exporter": "python",
   "pygments_lexer": "ipython3",
   "version": "3.7.11"
  },
  "orig_nbformat": 4
 },
 "nbformat": 4,
 "nbformat_minor": 2
}
